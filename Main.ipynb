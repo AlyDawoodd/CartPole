{
 "cells": [
  {
   "cell_type": "markdown",
   "metadata": {},
   "source": [
    "INSTALL INDEPENDICIES"
   ]
  },
  {
   "cell_type": "code",
   "execution_count": 1,
   "metadata": {},
   "outputs": [
    {
     "name": "stdout",
     "output_type": "stream",
     "text": [
      "Collecting git+https://github.com/DLR-RM/stable-baselines3Note: you may need to restart the kernel to use updated packages.\n"
     ]
    },
    {
     "name": "stderr",
     "output_type": "stream",
     "text": [
      "  Running command git clone --filter=blob:none --quiet https://github.com/DLR-RM/stable-baselines3 'C:\\Users\\express\\AppData\\Local\\Temp\\pip-req-build-9xdps4kz'\n"
     ]
    },
    {
     "name": "stdout",
     "output_type": "stream",
     "text": [
      "\n",
      "  Cloning https://github.com/DLR-RM/stable-baselines3 to c:\\users\\express\\appdata\\local\\temp\\pip-req-build-9xdps4kz\n",
      "  Resolved https://github.com/DLR-RM/stable-baselines3 to commit c8fda060d4bcb283eea6ddd385be5a46a54d3356\n",
      "  Installing build dependencies: started\n",
      "  Installing build dependencies: finished with status 'done'\n",
      "  Getting requirements to build wheel: started\n",
      "  Getting requirements to build wheel: finished with status 'done'\n",
      "  Preparing metadata (pyproject.toml): started\n",
      "  Preparing metadata (pyproject.toml): finished with status 'done'\n",
      "Requirement already satisfied: gymnasium<0.30,>=0.28.1 in e:\\reinforcment-learning\\self-driving-car\\.conda\\lib\\site-packages (from stable-baselines3==2.2.1) (0.29.1)\n",
      "Requirement already satisfied: numpy>=1.20 in e:\\reinforcment-learning\\self-driving-car\\.conda\\lib\\site-packages (from stable-baselines3==2.2.1) (1.26.2)\n",
      "Requirement already satisfied: torch>=1.13 in e:\\reinforcment-learning\\self-driving-car\\.conda\\lib\\site-packages (from stable-baselines3==2.2.1) (2.1.1)\n",
      "Requirement already satisfied: cloudpickle in e:\\reinforcment-learning\\self-driving-car\\.conda\\lib\\site-packages (from stable-baselines3==2.2.1) (3.0.0)\n",
      "Requirement already satisfied: pandas in e:\\reinforcment-learning\\self-driving-car\\.conda\\lib\\site-packages (from stable-baselines3==2.2.1) (2.1.3)\n",
      "Requirement already satisfied: matplotlib in e:\\reinforcment-learning\\self-driving-car\\.conda\\lib\\site-packages (from stable-baselines3==2.2.1) (3.8.2)\n",
      "Requirement already satisfied: typing-extensions>=4.3.0 in e:\\reinforcment-learning\\self-driving-car\\.conda\\lib\\site-packages (from gymnasium<0.30,>=0.28.1->stable-baselines3==2.2.1) (4.8.0)\n",
      "Requirement already satisfied: farama-notifications>=0.0.1 in e:\\reinforcment-learning\\self-driving-car\\.conda\\lib\\site-packages (from gymnasium<0.30,>=0.28.1->stable-baselines3==2.2.1) (0.0.4)\n",
      "Requirement already satisfied: filelock in e:\\reinforcment-learning\\self-driving-car\\.conda\\lib\\site-packages (from torch>=1.13->stable-baselines3==2.2.1) (3.13.1)\n",
      "Requirement already satisfied: sympy in e:\\reinforcment-learning\\self-driving-car\\.conda\\lib\\site-packages (from torch>=1.13->stable-baselines3==2.2.1) (1.12)\n",
      "Requirement already satisfied: networkx in e:\\reinforcment-learning\\self-driving-car\\.conda\\lib\\site-packages (from torch>=1.13->stable-baselines3==2.2.1) (3.2.1)\n",
      "Requirement already satisfied: jinja2 in e:\\reinforcment-learning\\self-driving-car\\.conda\\lib\\site-packages (from torch>=1.13->stable-baselines3==2.2.1) (3.1.2)\n",
      "Requirement already satisfied: fsspec in e:\\reinforcment-learning\\self-driving-car\\.conda\\lib\\site-packages (from torch>=1.13->stable-baselines3==2.2.1) (2023.10.0)\n",
      "Requirement already satisfied: contourpy>=1.0.1 in e:\\reinforcment-learning\\self-driving-car\\.conda\\lib\\site-packages (from matplotlib->stable-baselines3==2.2.1) (1.2.0)\n",
      "Requirement already satisfied: cycler>=0.10 in e:\\reinforcment-learning\\self-driving-car\\.conda\\lib\\site-packages (from matplotlib->stable-baselines3==2.2.1) (0.12.1)\n",
      "Requirement already satisfied: fonttools>=4.22.0 in e:\\reinforcment-learning\\self-driving-car\\.conda\\lib\\site-packages (from matplotlib->stable-baselines3==2.2.1) (4.45.1)\n",
      "Requirement already satisfied: kiwisolver>=1.3.1 in e:\\reinforcment-learning\\self-driving-car\\.conda\\lib\\site-packages (from matplotlib->stable-baselines3==2.2.1) (1.4.5)\n",
      "Requirement already satisfied: packaging>=20.0 in e:\\reinforcment-learning\\self-driving-car\\.conda\\lib\\site-packages (from matplotlib->stable-baselines3==2.2.1) (23.2)\n",
      "Requirement already satisfied: pillow>=8 in e:\\reinforcment-learning\\self-driving-car\\.conda\\lib\\site-packages (from matplotlib->stable-baselines3==2.2.1) (10.1.0)\n",
      "Requirement already satisfied: pyparsing>=2.3.1 in e:\\reinforcment-learning\\self-driving-car\\.conda\\lib\\site-packages (from matplotlib->stable-baselines3==2.2.1) (3.1.1)\n",
      "Requirement already satisfied: python-dateutil>=2.7 in e:\\reinforcment-learning\\self-driving-car\\.conda\\lib\\site-packages (from matplotlib->stable-baselines3==2.2.1) (2.8.2)\n",
      "Requirement already satisfied: pytz>=2020.1 in e:\\reinforcment-learning\\self-driving-car\\.conda\\lib\\site-packages (from pandas->stable-baselines3==2.2.1) (2023.3.post1)\n",
      "Requirement already satisfied: tzdata>=2022.1 in e:\\reinforcment-learning\\self-driving-car\\.conda\\lib\\site-packages (from pandas->stable-baselines3==2.2.1) (2023.3)\n",
      "Requirement already satisfied: six>=1.5 in e:\\reinforcment-learning\\self-driving-car\\.conda\\lib\\site-packages (from python-dateutil>=2.7->matplotlib->stable-baselines3==2.2.1) (1.16.0)\n",
      "Requirement already satisfied: MarkupSafe>=2.0 in e:\\reinforcment-learning\\self-driving-car\\.conda\\lib\\site-packages (from jinja2->torch>=1.13->stable-baselines3==2.2.1) (2.1.3)\n",
      "Requirement already satisfied: mpmath>=0.19 in e:\\reinforcment-learning\\self-driving-car\\.conda\\lib\\site-packages (from sympy->torch>=1.13->stable-baselines3==2.2.1) (1.3.0)\n"
     ]
    }
   ],
   "source": [
    "%pip install git+https://github.com/DLR-RM/stable-baselines3"
   ]
  },
  {
   "cell_type": "code",
   "execution_count": 2,
   "metadata": {},
   "outputs": [
    {
     "name": "stdout",
     "output_type": "stream",
     "text": [
      "Requirement already satisfied: pygame in e:\\reinforcment-learning\\self-driving-car\\.conda\\lib\\site-packages (2.5.2)\n",
      "Note: you may need to restart the kernel to use updated packages.\n"
     ]
    }
   ],
   "source": [
    "%pip install pygame"
   ]
  },
  {
   "cell_type": "code",
   "execution_count": 9,
   "metadata": {},
   "outputs": [],
   "source": [
    "import os\n",
    "import gymnasium as gym\n",
    "from stable_baselines3 import PPO\n",
    "from stable_baselines3.common.vec_env import dummy_vec_env\n",
    "from stable_baselines3.common.evaluation import evaluate_policy\n",
    "\n",
    "\n"
   ]
  },
  {
   "cell_type": "markdown",
   "metadata": {},
   "source": [
    "Load Env"
   ]
  },
  {
   "cell_type": "code",
   "execution_count": 21,
   "metadata": {},
   "outputs": [],
   "source": [
    "environment_name='CartPole-v1'\n",
    "env=gym.make(environment_name,render_mode=\"human\")"
   ]
  },
  {
   "cell_type": "code",
   "execution_count": 12,
   "metadata": {},
   "outputs": [],
   "source": [
    "import pygame"
   ]
  },
  {
   "cell_type": "code",
   "execution_count": 22,
   "metadata": {},
   "outputs": [
    {
     "name": "stdout",
     "output_type": "stream",
     "text": [
      "Episode:1 Score13.0\n",
      "Episode:2 Score21.0\n",
      "Episode:3 Score19.0\n",
      "Episode:4 Score19.0\n",
      "Episode:5 Score14.0\n"
     ]
    }
   ],
   "source": [
    "\n",
    "episodes=5\n",
    "for episode in range (1,episodes+1):\n",
    "    state=env.reset()\n",
    "    done=False\n",
    "    score=0\n",
    "    while not done:\n",
    "        env.render()\n",
    "        action=env.action_space.sample()\n",
    "        n_state, reward, done, any, info = env.step(action)\n",
    "        score += reward\n",
    "    print('Episode:{} Score{}'.format(episode,score))\n",
    "env.close()        "
   ]
  }
 ],
 "metadata": {
  "kernelspec": {
   "display_name": "Python 3",
   "language": "python",
   "name": "python3"
  },
  "language_info": {
   "codemirror_mode": {
    "name": "ipython",
    "version": 3
   },
   "file_extension": ".py",
   "mimetype": "text/x-python",
   "name": "python",
   "nbconvert_exporter": "python",
   "pygments_lexer": "ipython3",
   "version": "3.10.13"
  }
 },
 "nbformat": 4,
 "nbformat_minor": 2
}
